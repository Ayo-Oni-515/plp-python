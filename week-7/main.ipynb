{
 "cells": [
  {
   "cell_type": "markdown",
   "id": "5d67eaed",
   "metadata": {},
   "source": [
    "Data Collection & Setup"
   ]
  },
  {
   "cell_type": "code",
   "execution_count": 3,
   "id": "496a4d7c",
   "metadata": {},
   "outputs": [],
   "source": [
    "# Import required libraries\n",
    "import pandas as pd\n",
    "import numpy as np\n",
    "import matplotlib.pyplot as plt\n",
    "import seaborn as sns\n",
    "import plotly.express as px  # For choropleth map\n",
    "from datetime import datetime\n",
    "\n",
    "# Set visualization style\n",
    "sns.set_style(\"whitegrid\")\n",
    "plt.rcParams['figure.figsize'] = (12, 6)"
   ]
  },
  {
   "cell_type": "markdown",
   "id": "ca58b732",
   "metadata": {},
   "source": [
    "Data Collection & Setup"
   ]
  },
  {
   "cell_type": "code",
   "execution_count": null,
   "id": "31d27880",
   "metadata": {},
   "outputs": [],
   "source": [
    "# Load the dataset (replace with your local path if needed)\n",
    "url = \"https://covid.ourworldindata.org/data/owid-covid-data.csv\"\n",
    "try:\n",
    "    covid_df = pd.read_csv(url)\n",
    "    print(\"Dataset loaded successfully!\")\n",
    "    \n",
    "    # Initial exploration\n",
    "    print(\"\\nFirst 5 rows:\")\n",
    "    display(covid_df.head())\n",
    "    \n",
    "    print(\"\\nDataset info:\")\n",
    "    display(covid_df.info())\n",
    "    \n",
    "    print(\"\\nMissing values summary:\")\n",
    "    display(covid_df.isnull().sum().sort_values(ascending=False).head(20))\n",
    "    \n",
    "except Exception as e:\n",
    "    print(f\"Error loading dataset: {e}\")"
   ]
  },
  {
   "cell_type": "markdown",
   "id": "47692000",
   "metadata": {},
   "source": [
    "Data Cleaning"
   ]
  },
  {
   "cell_type": "code",
   "execution_count": null,
   "id": "4e945f1a",
   "metadata": {},
   "outputs": [],
   "source": [
    "# Select countries of interest\n",
    "countries = ['Kenya', 'United States', 'India', 'Brazil', 'Germany']\n",
    "filtered_df = covid_df[covid_df['location'].isin(countries)].copy()\n",
    "\n",
    "# Convert date column\n",
    "filtered_df['date'] = pd.to_datetime(filtered_df['date'])\n",
    "\n",
    "# Handle missing values for key metrics\n",
    "cols_to_fill = ['total_cases', 'total_deaths', 'new_cases', 'new_deaths', 'total_vaccinations']\n",
    "filtered_df[cols_to_fill] = filtered_df[cols_to_fill].fillna(0)\n",
    "\n",
    "# Calculate death rate\n",
    "filtered_df['death_rate'] = filtered_df['total_deaths'] / filtered_df['total_cases']\n",
    "\n",
    "print(\"\\nCleaned data summary:\")\n",
    "display(filtered_df.describe())"
   ]
  },
  {
   "cell_type": "markdown",
   "id": "71c576ce",
   "metadata": {},
   "source": [
    "Exploratory Data Analysis (EDA)"
   ]
  },
  {
   "cell_type": "markdown",
   "id": "01d41dd0",
   "metadata": {},
   "source": [
    "Total Cases Over Time"
   ]
  },
  {
   "cell_type": "code",
   "execution_count": null,
   "id": "9bb44a36",
   "metadata": {},
   "outputs": [],
   "source": [
    "plt.figure(figsize=(14, 7))\n",
    "sns.lineplot(data=filtered_df, x='date', y='total_cases', hue='location')\n",
    "plt.title('Total COVID-19 Cases Over Time')\n",
    "plt.ylabel('Total Cases')\n",
    "plt.xlabel('Date')\n",
    "plt.xticks(rotation=45)\n",
    "plt.show()"
   ]
  },
  {
   "cell_type": "markdown",
   "id": "c7acd994",
   "metadata": {},
   "source": [
    "Total Deaths Over Time"
   ]
  },
  {
   "cell_type": "code",
   "execution_count": null,
   "id": "71ee11a6",
   "metadata": {},
   "outputs": [],
   "source": [
    "plt.figure(figsize=(14, 7))\n",
    "sns.lineplot(data=filtered_df, x='date', y='total_deaths', hue='location')\n",
    "plt.title('Total COVID-19 Deaths Over Time')\n",
    "plt.ylabel('Total Deaths')\n",
    "plt.xlabel('Date')\n",
    "plt.xticks(rotation=45)\n",
    "plt.show()"
   ]
  },
  {
   "cell_type": "markdown",
   "id": "5983ac57",
   "metadata": {},
   "source": [
    "Daily New Cases Comparison"
   ]
  },
  {
   "cell_type": "code",
   "execution_count": null,
   "id": "c90b9b1c",
   "metadata": {},
   "outputs": [],
   "source": [
    "plt.figure(figsize=(14, 7))\n",
    "sns.lineplot(data=filtered_df, x='date', y='new_cases', hue='location')\n",
    "plt.title('Daily New COVID-19 Cases')\n",
    "plt.ylabel('New Cases')\n",
    "plt.xlabel('Date')\n",
    "plt.xticks(rotation=45)\n",
    "plt.show()"
   ]
  },
  {
   "cell_type": "markdown",
   "id": "ab9a470b",
   "metadata": {},
   "source": [
    "Death Rate Analysis"
   ]
  },
  {
   "cell_type": "code",
   "execution_count": null,
   "id": "bfa28404",
   "metadata": {},
   "outputs": [],
   "source": [
    "latest_data = filtered_df[filtered_df['date'] == filtered_df['date'].max()]\n",
    "plt.figure(figsize=(10, 6))\n",
    "sns.barplot(data=latest_data, x='location', y='death_rate')\n",
    "plt.title('COVID-19 Death Rate by Country')\n",
    "plt.ylabel('Death Rate (Deaths/Cases)')\n",
    "plt.xlabel('Country')\n",
    "plt.show()"
   ]
  },
  {
   "cell_type": "markdown",
   "id": "50c34ee4",
   "metadata": {},
   "source": [
    "Total Vaccinations Over Time"
   ]
  },
  {
   "cell_type": "code",
   "execution_count": null,
   "id": "b8e26662",
   "metadata": {},
   "outputs": [],
   "source": [
    "plt.figure(figsize=(14, 7))\n",
    "sns.lineplot(data=filtered_df, x='date', y='total_vaccinations', hue='location')\n",
    "plt.title('Total Vaccinations Over Time')\n",
    "plt.ylabel('Total Vaccinations')\n",
    "plt.xlabel('Date')\n",
    "plt.xticks(rotation=45)\n",
    "plt.show()"
   ]
  },
  {
   "cell_type": "markdown",
   "id": "b0911bb4",
   "metadata": {},
   "source": [
    "People Fully Vaccinated (%)"
   ]
  },
  {
   "cell_type": "code",
   "execution_count": null,
   "id": "704669cd",
   "metadata": {},
   "outputs": [],
   "source": [
    "plt.figure(figsize=(14, 7))\n",
    "sns.lineplot(data=filtered_df, x='date', y='people_fully_vaccinated_per_hundred', hue='location')\n",
    "plt.title('Percentage of Population Fully Vaccinated')\n",
    "plt.ylabel('% Fully Vaccinated')\n",
    "plt.xlabel('Date')\n",
    "plt.xticks(rotation=45)\n",
    "plt.show()"
   ]
  },
  {
   "cell_type": "markdown",
   "id": "ebe79b7d",
   "metadata": {},
   "source": [
    "Choropleth Map (Global View)"
   ]
  },
  {
   "cell_type": "code",
   "execution_count": null,
   "id": "4f1c708d",
   "metadata": {},
   "outputs": [],
   "source": [
    "# Prepare latest global data\n",
    "latest_global = covid_df[covid_df['date'] == covid_df['date'].max()]\n",
    "latest_global = latest_global[['iso_code', 'location', 'total_cases_per_million']].dropna()\n",
    "\n",
    "# Create interactive map\n",
    "fig = px.choropleth(latest_global, \n",
    "                    locations=\"iso_code\",\n",
    "                    color=\"total_cases_per_million\",\n",
    "                    hover_name=\"location\",\n",
    "                    color_continuous_scale=px.colors.sequential.Plasma,\n",
    "                    title=\"Global COVID-19 Cases per Million People\")\n",
    "fig.show()"
   ]
  }
 ],
 "metadata": {
  "kernelspec": {
   "display_name": "Python 3",
   "language": "python",
   "name": "python3"
  },
  "language_info": {
   "codemirror_mode": {
    "name": "ipython",
    "version": 3
   },
   "file_extension": ".py",
   "mimetype": "text/x-python",
   "name": "python",
   "nbconvert_exporter": "python",
   "pygments_lexer": "ipython3",
   "version": "3.12.3"
  }
 },
 "nbformat": 4,
 "nbformat_minor": 5
}
